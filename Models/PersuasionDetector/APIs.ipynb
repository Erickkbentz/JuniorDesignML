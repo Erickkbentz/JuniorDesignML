{
 "cells": [
  {
   "cell_type": "code",
   "execution_count": null,
   "metadata": {},
   "outputs": [],
   "source": [
    "import json\n",
    "import time\n",
    "import sys\n"
   ]
  },
  {
   "cell_type": "markdown",
   "metadata": {},
   "source": [
    "API to analyze job\n",
    "\n",
    "**To Expose on port 9090 run:**\n",
    "\n",
    "jupyter kernelgateway --api='kernel_gateway.notebook_http' --seed_uri='Models/PersuasionDetector/APIs.ipynb' --port 9090\n",
    "\n",
    "**curl post in terminal:**\n",
    "\n",
    "curl -X POST http://127.0.0.1:9090/test_message -H 'Content-Type: application/json' -d '{\"message\":\"Hello World\"}'"
   ]
  },
  {
   "cell_type": "code",
   "execution_count": null,
   "metadata": {},
   "outputs": [],
   "source": [
    "# Define REQUEST Object fields for test_message api\n",
    "\n",
    "test_message_fields = ['message']"
   ]
  },
  {
   "cell_type": "code",
   "execution_count": null,
   "metadata": {},
   "outputs": [],
   "source": [
    "# POST /test_message\n",
    "req = json.loads(REQUEST)\n",
    "body = req['body']\n",
    "\n",
    "print(json.dumps({'response' : 'Received message: ' + body.get(test_message_fields[0])}))"
   ]
  },
  {
   "cell_type": "code",
   "execution_count": null,
   "metadata": {
    "pycharm": {
     "name": "#%%\n"
    }
   },
   "outputs": [],
   "source": [
    "#Define REQUEST Object fields for analyze_job api\n",
    "\n",
    "analyze_job_fields = ['userId', 'jobName', 'inputType', 'url', 'fileLocation']"
   ]
  },
  {
   "cell_type": "code",
   "execution_count": 1,
   "metadata": {
    "pycharm": {
     "name": "#%%\n"
    }
   },
   "outputs": [
    {
     "ename": "SyntaxError",
     "evalue": "invalid syntax (<ipython-input-1-04788ea3b512>, line 6)",
     "output_type": "error",
     "traceback": [
      "\u001b[0;36m  File \u001b[0;32m\"<ipython-input-1-04788ea3b512>\"\u001b[0;36m, line \u001b[0;32m6\u001b[0m\n\u001b[0;31m    if ()\u001b[0m\n\u001b[0m         ^\u001b[0m\n\u001b[0;31mSyntaxError\u001b[0m\u001b[0;31m:\u001b[0m invalid syntax\n"
     ]
    }
   ],
   "source": [
    "# POST /analyze_job\n",
    "req = json.loads(REQUEST)\n",
    "body = req['body']\n",
    "status = ''\n",
    "outputLocation = ''\n",
    "\n",
    "# add logic to change status if ML stuff fails or is run successfully, for now set to COMPLETED by defualt\n",
    "status = 'COMPLETED'\n",
    "\n",
    "# Save the ML output file(s) in /UserFiles/... and set outputLocation to that file path. Replace fileName as well\n",
    "# if ML stuff fails set outputLocation to empty string\n",
    "fileName = 'file.csv'\n",
    "outputLocation = '/UserFiles/{}/output/{}/{}'.format(body.get('userId'), body.get('jobName'), fileName)\n",
    "\n",
    "\n",
    "# to simulate ML stuff doing its thing\n",
    "time.sleep(10)\n",
    "\n",
    "print(json.dumps({'status' : status, 'outputLocation' : outputLocation}))"
   ]
  },
  {
   "cell_type": "code",
   "execution_count": null,
   "metadata": {
    "pycharm": {
     "name": "#%%\n"
    }
   },
   "outputs": [],
   "source": [
    "# ResponseInfo POST /analyze_job\n",
    "print(json.dumps({\n",
    "    \"headers\" : {\n",
    "        \"Content-Type\" : \"application/json\"\n",
    "    },\n",
    "    \"status\" : 200\n",
    "}))"
   ]
  }
 ],
 "metadata": {
  "kernelspec": {
   "display_name": "Python 3",
   "language": "python",
   "name": "python3"
  },
  "language_info": {
   "codemirror_mode": {
    "name": "ipython",
    "version": 3
   },
   "file_extension": ".py",
   "mimetype": "text/x-python",
   "name": "python",
   "nbconvert_exporter": "python",
   "pygments_lexer": "ipython3",
   "version": "3.9.4"
  }
 },
 "nbformat": 4,
 "nbformat_minor": 4
}
