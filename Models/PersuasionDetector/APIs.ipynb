{
 "cells": [
  {
   "cell_type": "code",
   "execution_count": null,
   "metadata": {},
   "outputs": [],
   "source": [
    "import json"
   ]
  },
  {
   "cell_type": "markdown",
   "metadata": {},
   "source": [
    "API to analyze job\n",
    "\n",
    "**To Expose on port 9090 run:**\n",
    "\n",
    "jupyter kernelgateway --api='kernel_gateway.notebook_http' --seed_uri='Models/PersuasionDetector/APIs.ipynb' --port 9090\n",
    "\n",
    "**curl post in terminal:**\n",
    "\n",
    "curl -X POST http://127.0.0.1:9090/test_message -H 'Content-Type: application/json' -d '{\"message\":\"Hello World\"}'"
   ]
  },
  {
   "cell_type": "code",
   "execution_count": null,
   "metadata": {},
   "outputs": [],
   "source": [
    "# Define REQUEST Object fields for test_message api\n",
    "\n",
    "test_message_fields = ['message']"
   ]
  },
  {
   "cell_type": "code",
   "execution_count": null,
   "metadata": {},
   "outputs": [],
   "source": [
    "# POST /test_message\n",
    "req = json.loads(REQUEST)\n",
    "body = req['body']\n",
    "\n",
    "print(json.dumps({'response' : 'Received message: ' + body.get(test_message_fields[0])}))"
   ]
  },
  {
   "cell_type": "code",
   "execution_count": null,
   "outputs": [],
   "source": [
    "#Define REQUEST Object fields for analyze_job api\n",
    "\n",
    "analyze_job_fields = ['jobName']"
   ],
   "metadata": {
    "collapsed": false,
    "pycharm": {
     "name": "#%%\n"
    }
   }
  },
  {
   "cell_type": "code",
   "execution_count": 1,
   "outputs": [],
   "source": [
    "# POST /analyze_job\n",
    "req = json.loads(REQUEST)\n",
    "body = req['body']\n",
    "\n",
    "print(json.dumps({'response' : 'MLServer received job with name - ' + body.get(analyze_job_fields[0])}))"
   ],
   "metadata": {
    "collapsed": false,
    "pycharm": {
     "name": "#%%\n"
    }
   }
  },
  {
   "cell_type": "code",
   "execution_count": null,
   "outputs": [],
   "source": [
    "# ResponseInfo POST /analyze_job\n",
    "print(json.dumps({\n",
    "    \"headers\" : {\n",
    "        \"Content-Type\" : \"application/json\"\n",
    "    },\n",
    "    \"status\" : 201\n",
    "}))"
   ],
   "metadata": {
    "collapsed": false,
    "pycharm": {
     "name": "#%%\n"
    }
   }
  }
 ],
 "metadata": {
  "kernelspec": {
   "display_name": "Python 3",
   "language": "python",
   "name": "python3"
  },
  "language_info": {
   "codemirror_mode": {
    "name": "ipython",
    "version": 3
   },
   "file_extension": ".py",
   "mimetype": "text/x-python",
   "name": "python",
   "nbconvert_exporter": "python",
   "pygments_lexer": "ipython3",
   "version": "3.8.5"
  }
 },
 "nbformat": 4,
 "nbformat_minor": 4
}