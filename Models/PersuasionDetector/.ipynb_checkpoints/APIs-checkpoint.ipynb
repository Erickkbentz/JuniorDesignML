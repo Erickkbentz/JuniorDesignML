{
 "cells": [
  {
   "cell_type": "code",
   "execution_count": null,
   "metadata": {},
   "outputs": [],
   "source": [
    "import json"
   ]
  },
  {
   "cell_type": "markdown",
   "metadata": {},
   "source": [
    "API to analyze job\n",
    "\n",
    "**To Expose on port 9090 run:**\n",
    "\n",
    "jupyter kernelgateway --api='kernel_gateway.notebook_http' --seed_uri='Models/PersuasionDetector/APIs.ipynb' --port 9090\n",
    "\n",
    "**curl post in terminal:**\n",
    "\n",
    "curl -X POST http://127.0.0.1:9090/analyze_job -H 'Content-Type: application/json' -d '{\"message\":\"Hello World\"}'"
   ]
  },
  {
   "cell_type": "code",
   "execution_count": null,
   "metadata": {},
   "outputs": [],
   "source": [
    "# Define REQUEST Object fields\n",
    "\n",
    "reqFields = ['message']"
   ]
  },
  {
   "cell_type": "code",
   "execution_count": null,
   "metadata": {},
   "outputs": [],
   "source": [
    "# POST /analyze_job\n",
    "req = json.loads(REQUEST)\n",
    "body = req['body']\n",
    "\n",
    "print(json.dumps({'response' : 'Recieved message: ' + body.get(reqFields[0])}))"
   ]
  }
 ],
 "metadata": {
  "kernelspec": {
   "display_name": "Python 3",
   "language": "python",
   "name": "python3"
  },
  "language_info": {
   "codemirror_mode": {
    "name": "ipython",
    "version": 3
   },
   "file_extension": ".py",
   "mimetype": "text/x-python",
   "name": "python",
   "nbconvert_exporter": "python",
   "pygments_lexer": "ipython3",
   "version": "3.8.5"
  }
 },
 "nbformat": 4,
 "nbformat_minor": 4
}
