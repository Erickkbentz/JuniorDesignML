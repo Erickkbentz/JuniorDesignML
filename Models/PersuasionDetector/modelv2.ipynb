{
 "cells": [
  {
   "cell_type": "code",
   "execution_count": 19,
   "id": "8f7e40be",
   "metadata": {},
   "outputs": [],
   "source": [
    "import pandas as pd\n",
    "data = pd.read_csv(\"persuasionExamples5.csv\", encoding = \"latin1\", engine='python', usecols=['body', 'containsPersuasion'])\n",
    "import numpy as np\n",
    "data['containsPersuasion'] = np.where(data['containsPersuasion']=='[1]', 1, 0)\n",
    "numpy_arr = data.values\n",
    "X = numpy_arr[:,0]\n",
    "Y = numpy_arr[:,1]\n",
    "Y = Y.astype('int')"
   ]
  },
  {
   "cell_type": "code",
   "execution_count": 22,
   "id": "44583236",
   "metadata": {},
   "outputs": [],
   "source": [
    "from sklearn.model_selection import train_test_split\n",
    "X_train, X_test, Y_train, Y_test = train_test_split(X, Y, test_size=0.3, random_state=42)\n",
    "from sklearn.feature_extraction.text import CountVectorizer\n",
    "from sklearn.feature_extraction.text import TfidfTransformer\n",
    "from sklearn.naive_bayes import MultinomialNB\n",
    "from sklearn.pipeline import Pipeline\n",
    "text_clf = Pipeline([('vect', CountVectorizer(stop_words='english')),\n",
    "                     ('tfidf', TfidfTransformer()),\n",
    "                    ('clf', MultinomialNB())])\n"
   ]
  },
  {
   "cell_type": "code",
   "execution_count": 32,
   "id": "cef588c5",
   "metadata": {},
   "outputs": [
    {
     "data": {
      "text/plain": [
       "0.9341488807912546"
      ]
     },
     "execution_count": 32,
     "metadata": {},
     "output_type": "execute_result"
    }
   ],
   "source": [
    "text_clf = text_clf.fit(X_train.astype('U'), Y_train.astype('U'))\n",
    "predicted = text_clf.predict(X_test.astype('U'))\n",
    "np.mean(predicted == Y_test.astype('U'))"
   ]
  },
  {
   "cell_type": "code",
   "execution_count": null,
   "id": "557d56ad",
   "metadata": {},
   "outputs": [],
   "source": []
  },
  {
   "cell_type": "code",
   "execution_count": null,
   "id": "29a8a2a2",
   "metadata": {},
   "outputs": [],
   "source": []
  },
  {
   "cell_type": "code",
   "execution_count": 37,
   "id": "7c50ee08",
   "metadata": {},
   "outputs": [
    {
     "name": "stdout",
     "output_type": "stream",
     "text": [
      "Done!\n"
     ]
    }
   ],
   "source": [
    "#Making a test set of unlabled data\n",
    "#rows of csv\n",
    "import csv as csv\n",
    "comment_bodies = []\n",
    "\n",
    "#colls of csv\n",
    "details = ['body']\n",
    "\n",
    "myTests = [\"Why should we give shots to perfectly healthy people who have had there shots when we could send them to other countries where it's hard to get the first 2 shots\",\n",
    "          \"You may or may not be right, but your reasoning is completely beside the point. You should get a booster if and only if it is recommended by the public health professionals. It's their job to figure out what the best way to use the resources at their disposal is. You shouldn't try to figure out for yourself whether it's reasonable to use the resources that way, because you're not going to do a better job than they are when you don't have access to as much information, and you're not spending as much time on it.\",\n",
    "          \"Why should my tax dollars go for another kid's education? He has his own parents.\",\n",
    "          \"As another person has pointed out, it is about prioritisation. In normal circumstances, hospitals don't generally have to prioritise some people over others, but Covid is a special circumstance where hospitals in some areas are often running at full capacities. In this case, people who made the effort to avoid the severe effects of covid should be prioritised.Also, may I point out that maintaining a healthy lifestyle or battling a smoking addiction is much harder than getting a shot or two.\",\n",
    "          \"Most tables have four legs. However, some tables can have less than four.\",\n",
    "          \"This is a dangerous road to go down.\",\n",
    "          \"Glass water bottles are more efficient than metal ones. Glass is just a lot better at keeping the heat in.\",\n",
    "          \"Every night on my walk home from work, I listen to true crime podcasts. Even though my favorite podcast already released their episode for this week, the app said there was a new one. Excited, I hit PLAY.\",\n",
    "          \"I haven't bailed on writing. Look, I'm generating a random paragraph at this very moment in an attempt to get my writing back on track. I am making an effort. I will start writing consistently again!\",\n",
    "          \"They say you only come to peace with yourself when you know yourself better than those around you. Derick knew nothing about this. He thought he had found peace but this was an illusion as he was about to find out with an unexpected occurrence that he actually knew nothing about himself.\",\n",
    "          \"Eating raw fish didn't sound like a good idea. It's a delicacy in Japan, didn't seem to make it any more appetizing. Raw fish is raw fish, delicacy or not.\",\n",
    "          \"There was little doubt that the bridge was unsafe. All one had to do was look at it to know that with certainty. Yet Bob didn't see another option. He may have been able to work one out if he had a bit of time to think things through, but time was something he didn't have. A choice needed to be made, and it needed to be made quickly.\",\n",
    "          \"Boiled or microwaved veggies absolutely suck and are the laziest way to cook them. If you Sautéed those bad boys in butter, roasted or grilled them with some actual seasoning, then your kids would have a grand old time eating them and you wouldn't have to threaten them with no play time while they sit there and throw up in their mouth. Stop torturing your kids and learn to cook.\",\n",
    "          \"Sea horses are the worst type of fish. They evolve tails to make up for the fact they dont have fins. Such a stupid species\",\n",
    "          \"Graveyards are a waste of space and people should be remembered with stories, paintings, photos etc. of when they were alive and happy - not where their rotting corpse lies.The space taken up by graveyards around the world could be used instead amazing parks, public spaces etc. for new memories to be made by new generations. Cremate them all and be done with it.\",\n",
    "           \"It's a well known fact that there are over 400,000 children in foster care, and in 2017 alone over 100,000 infants under 3 entered the system. I think it's completely entitled and self-absorbed to think that somehow your miracle baby is worth more or deserves more love than any one of those infants.\",\n",
    "          \"Movies, shows and books are created at a certain time and place that cannot be changed. So calling them problematic is like looking at a picture of yourself when you were young and saying how bad your clothes look by today's standards, when at the time you were stylish. People calling something problematic is just virtue signaling. I think many older pieces of media are racist, homphobic or misogynistic, but they can't be changed and they can't be held to today's standards.\"]\n",
    "#for writing to the csv file\n",
    "with open('testSet2.csv', 'a') as f:\n",
    "    write = csv.writer(f)\n",
    "    try:\n",
    "        write.writerow(details)\n",
    "    except:\n",
    "        print(\"woop woop\") #used to catch an error (i think caused by untypable characters (emojis))\n",
    "    for test in myTests:\n",
    "        curr_test = test\n",
    "        arr = [curr_test]\n",
    "        try:\n",
    "            write.writerow(arr) #appends comment to csv file\n",
    "        except:\n",
    "            print(\"woop woop\") #same as other one\n",
    "print(\"Done!\")"
   ]
  },
  {
   "cell_type": "code",
   "execution_count": 38,
   "id": "4b2baea0",
   "metadata": {},
   "outputs": [
    {
     "name": "stdout",
     "output_type": "stream",
     "text": [
      "0     Why should we give shots to perfectly healthy ...\n",
      "1     You may or may not be right, but your reasonin...\n",
      "2     Why should my tax dollars go for another kid's...\n",
      "3     As another person has pointed out, it is about...\n",
      "4     Most tables have four legs. However, some tabl...\n",
      "5                  This is a dangerous road to go down.\n",
      "6     Glass water bottles are more efficient than me...\n",
      "7     Every night on my walk home from work, I liste...\n",
      "8     I haven't bailed on writing. Look, I'm generat...\n",
      "9     They say you only come to peace with yourself ...\n",
      "10    Eating raw fish didn't sound like a good idea....\n",
      "11    There was little doubt that the bridge was uns...\n",
      "12    Boiled or microwaved veggies absolutely suck a...\n",
      "13    Sea horses are the worst type of fish. They ev...\n",
      "14    Graveyards are a waste of space and people sho...\n",
      "15    It's a well known fact that there are over 400...\n",
      "16    Movies, shows and books are created at a certa...\n",
      "Name: body, dtype: object\n"
     ]
    }
   ],
   "source": [
    "man_test = pd.read_csv('testSet2.csv', encoding = \"latin1\", engine='python', usecols=['body'])\n",
    "#sample = pd.DataFrame(temp, columns=['body', 'containsPersuasion'])\n",
    "man_test.head()\n",
    "man_X_test = man_test['body']\n",
    "print(man_X_test)"
   ]
  },
  {
   "cell_type": "code",
   "execution_count": 39,
   "id": "8154ada3",
   "metadata": {},
   "outputs": [
    {
     "name": "stdout",
     "output_type": "stream",
     "text": [
      "Why should we give shots to perfectly healthy people who have had there shots when we could send them to other countries where it's hard to get the first 2 shots:\n",
      "1\n",
      "You may or may not be right, but your reasoning is completely beside the point. You should get a booster if and only if it is recommended by the public health professionals. It's their job to figure out what the best way to use the resources at their disposal is. You shouldn't try to figure out for yourself whether it's reasonable to use the resources that way, because you're not going to do a better job than they are when you don't have access to as much information, and you're not spending as much time on it.:\n",
      "1\n",
      "Why should my tax dollars go for another kid's education? He has his own parents.:\n",
      "1\n",
      "As another person has pointed out, it is about prioritisation. In normal circumstances, hospitals don't generally have to prioritise some people over others, but Covid is a special circumstance where hospitals in some areas are often running at full capacities. In this case, people who made the effort to avoid the severe effects of covid should be prioritised.Also, may I point out that maintaining a healthy lifestyle or battling a smoking addiction is much harder than getting a shot or two.:\n",
      "1\n",
      "Most tables have four legs. However, some tables can have less than four.:\n",
      "0\n",
      "This is a dangerous road to go down.:\n",
      "0\n",
      "Glass water bottles are more efficient than metal ones. Glass is just a lot better at keeping the heat in.:\n",
      "0\n",
      "Every night on my walk home from work, I listen to true crime podcasts. Even though my favorite podcast already released their episode for this week, the app said there was a new one. Excited, I hit PLAY.:\n",
      "0\n",
      "I haven't bailed on writing. Look, I'm generating a random paragraph at this very moment in an attempt to get my writing back on track. I am making an effort. I will start writing consistently again!:\n",
      "0\n",
      "They say you only come to peace with yourself when you know yourself better than those around you. Derick knew nothing about this. He thought he had found peace but this was an illusion as he was about to find out with an unexpected occurrence that he actually knew nothing about himself.:\n",
      "0\n",
      "Eating raw fish didn't sound like a good idea. It's a delicacy in Japan, didn't seem to make it any more appetizing. Raw fish is raw fish, delicacy or not.:\n",
      "0\n",
      "There was little doubt that the bridge was unsafe. All one had to do was look at it to know that with certainty. Yet Bob didn't see another option. He may have been able to work one out if he had a bit of time to think things through, but time was something he didn't have. A choice needed to be made, and it needed to be made quickly.:\n",
      "0\n",
      "Boiled or microwaved veggies absolutely suck and are the laziest way to cook them. If you Sautéed those bad boys in butter, roasted or grilled them with some actual seasoning, then your kids would have a grand old time eating them and you wouldn't have to threaten them with no play time while they sit there and throw up in their mouth. Stop torturing your kids and learn to cook.:\n",
      "0\n",
      "Sea horses are the worst type of fish. They evolve tails to make up for the fact they dont have fins. Such a stupid species:\n",
      "0\n",
      "Graveyards are a waste of space and people should be remembered with stories, paintings, photos etc. of when they were alive and happy - not where their rotting corpse lies.The space taken up by graveyards around the world could be used instead amazing parks, public spaces etc. for new memories to be made by new generations. Cremate them all and be done with it.:\n",
      "0\n",
      "It's a well known fact that there are over 400,000 children in foster care, and in 2017 alone over 100,000 infants under 3 entered the system. I think it's completely entitled and self-absorbed to think that somehow your miracle baby is worth more or deserves more love than any one of those infants.:\n",
      "1\n",
      "Movies, shows and books are created at a certain time and place that cannot be changed. So calling them problematic is like looking at a picture of yourself when you were young and saying how bad your clothes look by today's standards, when at the time you were stylish. People calling something problematic is just virtue signaling. I think many older pieces of media are racist, homphobic or misogynistic, but they can't be changed and they can't be held to today's standards.:\n",
      "1\n"
     ]
    }
   ],
   "source": [
    "predictions = text_clf.predict(man_X_test.astype('U'))\n",
    "count = 0\n",
    "for i in predictions:\n",
    "    print(man_X_test.iloc[count] + \":\")\n",
    "    print(predictions[count])\n",
    "    count += 1"
   ]
  },
  {
   "cell_type": "code",
   "execution_count": null,
   "id": "6227deec",
   "metadata": {},
   "outputs": [],
   "source": []
  }
 ],
 "metadata": {
  "kernelspec": {
   "display_name": "Python 3",
   "language": "python",
   "name": "python3"
  },
  "language_info": {
   "codemirror_mode": {
    "name": "ipython",
    "version": 3
   },
   "file_extension": ".py",
   "mimetype": "text/x-python",
   "name": "python",
   "nbconvert_exporter": "python",
   "pygments_lexer": "ipython3",
   "version": "3.9.6"
  }
 },
 "nbformat": 4,
 "nbformat_minor": 5
}
