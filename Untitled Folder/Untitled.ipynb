{
 "cells": [
  {
   "cell_type": "code",
   "execution_count": 1,
   "id": "1bc67eea",
   "metadata": {},
   "outputs": [],
   "source": [
    "import PyPDF2\n",
    "import pandas as pd"
   ]
  },
  {
   "cell_type": "code",
   "execution_count": 3,
   "id": "e9ebf2c3",
   "metadata": {},
   "outputs": [],
   "source": [
    "pdf_to_scan = open('input_pdf/Gettysburg-Address.pdf', 'rb')\n",
    "pdf_reader = PyPDF2.PdfFileReader(pdf_to_scan)"
   ]
  },
  {
   "cell_type": "code",
   "execution_count": 17,
   "id": "2a0caff0",
   "metadata": {},
   "outputs": [],
   "source": [
    "results = pd.DataFrame(columns=['body'])\n",
    "num_pages = pdf_reader.numPages\n",
    "cur_text = []\n",
    "to_add = []\n",
    "for page in range(0, num_pages):\n",
    "    cur_page = pdf_reader.getPage(page)\n",
    "    cur_text = cur_page.extractText()\n",
    "    for i in range(0, len(cur_text)):\n",
    "        cur_char = cur_text[i]\n",
    "        if (cur_char == '.' or cur_char == '!' or cur_char == '?'):\n",
    "            to_add = str(to_add) + cur_char\n",
    "            to_add = to_add.replace(\"\\n\", \"\")\n",
    "            results = results.append({'body':to_add[2:]}, ignore_index=True)\n",
    "            to_add = []\n",
    "        else:\n",
    "            to_add = str(to_add) + cur_char"
   ]
  },
  {
   "cell_type": "code",
   "execution_count": 19,
   "id": "dc6e697e",
   "metadata": {},
   "outputs": [
    {
     "data": {
      "text/html": [
       "<div>\n",
       "<style scoped>\n",
       "    .dataframe tbody tr th:only-of-type {\n",
       "        vertical-align: middle;\n",
       "    }\n",
       "\n",
       "    .dataframe tbody tr th {\n",
       "        vertical-align: top;\n",
       "    }\n",
       "\n",
       "    .dataframe thead th {\n",
       "        text-align: right;\n",
       "    }\n",
       "</style>\n",
       "<table border=\"1\" class=\"dataframe\">\n",
       "  <thead>\n",
       "    <tr style=\"text-align: right;\">\n",
       "      <th></th>\n",
       "      <th>body</th>\n",
       "    </tr>\n",
       "  </thead>\n",
       "  <tbody>\n",
       "    <tr>\n",
       "      <th>0</th>\n",
       "      <td>Transcript of the Gettysburg Address- Resource  Transcription of the Gettysburg Address delivered at the dedication of the Cemetery at Gettysburg.</td>\n",
       "    </tr>\n",
       "    <tr>\n",
       "      <th>1</th>\n",
       "      <td>Four score and seven years ago our fathers brought forth on this continent, a new nation, conceived in Liberty, and dedicated to the proposition that all men are created equal.</td>\n",
       "    </tr>\n",
       "    <tr>\n",
       "      <th>2</th>\n",
       "      <td>Now we are engaged in a great civil war, testing whether that nation, or any nation so conceived and so dedicated, can long endure.</td>\n",
       "    </tr>\n",
       "    <tr>\n",
       "      <th>3</th>\n",
       "      <td>We are met on a great battle field of that war.</td>\n",
       "    </tr>\n",
       "    <tr>\n",
       "      <th>4</th>\n",
       "      <td>We have come to dedicate a portion of that field, as a final resting place for those who here gave their lives that that nation might live.</td>\n",
       "    </tr>\n",
       "    <tr>\n",
       "      <th>5</th>\n",
       "      <td>It is altogether fitting and proper that we should do this.</td>\n",
       "    </tr>\n",
       "    <tr>\n",
       "      <th>6</th>\n",
       "      <td>But, in a larger sense, we can not dedicatewe can not consecratewe can not hallowthis ground.</td>\n",
       "    </tr>\n",
       "    <tr>\n",
       "      <th>7</th>\n",
       "      <td>The brave men, living and dead, who struggled here, have consecrated it, far above our poor power to add or detract.</td>\n",
       "    </tr>\n",
       "    <tr>\n",
       "      <th>8</th>\n",
       "      <td>The world will little note, nor long remember what we say here, but it can never forget what they did here.</td>\n",
       "    </tr>\n",
       "    <tr>\n",
       "      <th>9</th>\n",
       "      <td>It is for us the living, rather, to be dedicated here to the unfinished work which they who fought here have thus far so nobly advanced.</td>\n",
       "    </tr>\n",
       "    <tr>\n",
       "      <th>10</th>\n",
       "      <td>It is rather for us to be here dedicated to the great task remaining before usthat from these honored dead we take increased devotion to that cause for which they gave the last full measure of devotionthat we here highly resolve that these dead shall not have died in vainthat this nation, under God, shall have a new birth of freedomand that government of the people, by the people, for the people, shall not perish from the earth.</td>\n",
       "    </tr>\n",
       "    <tr>\n",
       "      <th>11</th>\n",
       "      <td>Abraham Lincoln.</td>\n",
       "    </tr>\n",
       "    <tr>\n",
       "      <th>12</th>\n",
       "      <td>November 19, 1863.</td>\n",
       "    </tr>\n",
       "  </tbody>\n",
       "</table>\n",
       "</div>"
      ],
      "text/plain": [
       "                                                                                                                                                                                                                                                                                                                                                                                                                                                 body\n",
       "0                                                                                                                                                                                                                                                                                                  Transcript of the Gettysburg Address- Resource  Transcription of the Gettysburg Address delivered at the dedication of the Cemetery at Gettysburg.\n",
       "1                                                                                                                                                                                                                                                                    Four score and seven years ago our fathers brought forth on this continent, a new nation, conceived in Liberty, and dedicated to the proposition that all men are created equal.\n",
       "2                                                                                                                                                                                                                                                                                                                 Now we are engaged in a great civil war, testing whether that nation, or any nation so conceived and so dedicated, can long endure.\n",
       "3                                                                                                                                                                                                                                                                                                                                                                                                     We are met on a great battle field of that war.\n",
       "4                                                                                                                                                                                                                                                                                                         We have come to dedicate a portion of that field, as a final resting place for those who here gave their lives that that nation might live.\n",
       "5                                                                                                                                                                                                                                                                                                                                                                                         It is altogether fitting and proper that we should do this.\n",
       "6                                                                                                                                                                                                                                                                                                                                                       But, in a larger sense, we can not dedicatewe can not consecratewe can not hallowthis ground.\n",
       "7                                                                                                                                                                                                                                                                                                                                The brave men, living and dead, who struggled here, have consecrated it, far above our poor power to add or detract.\n",
       "8                                                                                                                                                                                                                                                                                                                                         The world will little note, nor long remember what we say here, but it can never forget what they did here.\n",
       "9                                                                                                                                                                                                                                                                                                            It is for us the living, rather, to be dedicated here to the unfinished work which they who fought here have thus far so nobly advanced.\n",
       "10   It is rather for us to be here dedicated to the great task remaining before usthat from these honored dead we take increased devotion to that cause for which they gave the last full measure of devotionthat we here highly resolve that these dead shall not have died in vainthat this nation, under God, shall have a new birth of freedomand that government of the people, by the people, for the people, shall not perish from the earth.\n",
       "11                                                                                                                                                                                                                                                                                                                                                                                                                                   Abraham Lincoln.\n",
       "12                                                                                                                                                                                                                                                                                                                                                                                                                                 November 19, 1863."
      ]
     },
     "execution_count": 19,
     "metadata": {},
     "output_type": "execute_result"
    }
   ],
   "source": [
    "pd.set_option(\"display.max_rows\", None, \"display.max_columns\", None, \"display.max_colwidt\", None)\n",
    "results.head(n=50)"
   ]
  },
  {
   "cell_type": "code",
   "execution_count": null,
   "id": "a8d64129",
   "metadata": {},
   "outputs": [],
   "source": []
  },
  {
   "cell_type": "code",
   "execution_count": null,
   "id": "4a293f68",
   "metadata": {},
   "outputs": [],
   "source": []
  },
  {
   "cell_type": "code",
   "execution_count": null,
   "id": "4f5c8ddb",
   "metadata": {},
   "outputs": [],
   "source": []
  }
 ],
 "metadata": {
  "kernelspec": {
   "display_name": "Python 3",
   "language": "python",
   "name": "python3"
  },
  "language_info": {
   "codemirror_mode": {
    "name": "ipython",
    "version": 3
   },
   "file_extension": ".py",
   "mimetype": "text/x-python",
   "name": "python",
   "nbconvert_exporter": "python",
   "pygments_lexer": "ipython3",
   "version": "3.9.6"
  }
 },
 "nbformat": 4,
 "nbformat_minor": 5
}
