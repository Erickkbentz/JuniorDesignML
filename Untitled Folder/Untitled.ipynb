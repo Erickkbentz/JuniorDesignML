{
 "cells": [
  {
   "cell_type": "code",
   "execution_count": 1,
   "id": "1bc67eea",
   "metadata": {},
   "outputs": [],
   "source": [
    "import PyPDF2\n"
   ]
  },
  {
   "cell_type": "code",
   "execution_count": 2,
   "id": "e9ebf2c3",
   "metadata": {},
   "outputs": [],
   "source": [
    "pdf_to_scan = open('input_pdf/Gettysburg-Address.pdf', 'rb')\n",
    "pdf_reader = PyPDF2.PdfFileReader(pdf_to_scan)"
   ]
  },
  {
   "cell_type": "code",
   "execution_count": 4,
   "id": "2a0caff0",
   "metadata": {},
   "outputs": [
    {
     "name": "stdout",
     "output_type": "stream",
     "text": [
      " \n",
      "Trans\n",
      "cript of the Gettysburg Address\n",
      "-\n",
      " \n",
      "Resource\n",
      " \n",
      " \n",
      "Transcri\n",
      "p\n",
      "tion of the Gettysburg Address \n",
      "delivered at the dedication of the Cemetery \n",
      "at \n",
      "Gettysburg.\n",
      " \n",
      "Four score and seven years ago our fathers brought forth on this continent, a new nation, \n",
      "conceived in Liberty, and dedicated to the proposition that all men are created equal.\n",
      " \n",
      " \n",
      "Now we are engaged in a great civil war, testing whether that \n",
      "nation, or any nation so \n",
      "conceived and so dedicated, can long endure. We are met on a great battle field of that war. \n",
      "We have come to dedicate a portion of that field, as a final resting place for those who here \n",
      "gave their lives that that nation might live\n",
      ". It is altogether fitting and proper that we should do \n",
      "this.\n",
      " \n",
      " \n",
      "But, in a larger sense, we can not dedicate\n",
      "\n",
      "we can not consecrate\n",
      "\n",
      "we can not hallow\n",
      "\n",
      "this \n",
      "ground. The brave men, living and dead, who struggled here, have consecrated it, far above our \n",
      "poor powe\n",
      "r to add or detract. The world will little note, nor long remember what we say here, \n",
      "but it can never forget what they did here. It is for us the living, rather, to be dedicated here to \n",
      "the unfinished work which they who fought here have thus far so nobly \n",
      "advanced. It is rather \n",
      "for us to be here dedicated to the great task remaining before us\n",
      "\n",
      "that from these honored \n",
      "dead we take increased devotion to that cause for which they gave the last full measure of \n",
      "devotion\n",
      "\n",
      "that we here highly resolve that these dead\n",
      " \n",
      "shall not have died in vain\n",
      "\n",
      "that this \n",
      "nation, under God, shall have a new birth of freedom\n",
      "\n",
      "and that government of the people, by \n",
      "the people, for the people, shall not perish from the earth.\n",
      " \n",
      " \n",
      "Abraham Lincoln.\n",
      " \n",
      " \n",
      "November 19, 1863.\n",
      " \n",
      "\n"
     ]
    }
   ],
   "source": [
    "num_pages = pdf_reader.numPages\n",
    "for page in range(0, num_pages):\n",
    "    cur_page = pdf_reader.getPage(page)\n",
    "    print(cur_page.extractText())"
   ]
  },
  {
   "cell_type": "code",
   "execution_count": null,
   "id": "dc6e697e",
   "metadata": {},
   "outputs": [],
   "source": []
  },
  {
   "cell_type": "code",
   "execution_count": null,
   "id": "a8d64129",
   "metadata": {},
   "outputs": [],
   "source": []
  },
  {
   "cell_type": "code",
   "execution_count": null,
   "id": "4a293f68",
   "metadata": {},
   "outputs": [],
   "source": []
  },
  {
   "cell_type": "code",
   "execution_count": null,
   "id": "4f5c8ddb",
   "metadata": {},
   "outputs": [],
   "source": []
  }
 ],
 "metadata": {
  "kernelspec": {
   "display_name": "Python 3",
   "language": "python",
   "name": "python3"
  },
  "language_info": {
   "codemirror_mode": {
    "name": "ipython",
    "version": 3
   },
   "file_extension": ".py",
   "mimetype": "text/x-python",
   "name": "python",
   "nbconvert_exporter": "python",
   "pygments_lexer": "ipython3",
   "version": "3.9.6"
  }
 },
 "nbformat": 4,
 "nbformat_minor": 5
}
